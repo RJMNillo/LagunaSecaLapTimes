{
 "cells": [
  {
   "cell_type": "code",
   "execution_count": 1,
   "metadata": {},
   "outputs": [
    {
     "data": {
      "text/plain": [
       "<title>Sauber C5 LM specs, lap times, performance data - FastestLaps.com</title>"
      ]
     },
     "execution_count": 1,
     "metadata": {},
     "output_type": "execute_result"
    }
   ],
   "source": [
    "import requests\n",
    "from bs4 import BeautifulSoup\n",
    "import pandas as pd\n",
    "from pprint import pprint\n",
    "\n",
    "test_URL = \"https://fastestlaps.com/models/sauber-c5-lm\"\n",
    "\n",
    "urlreq = requests.get(test_URL).text\n",
    "\n",
    "soup = BeautifulSoup(urlreq)\n",
    "\n",
    "soup.title"
   ]
  },
  {
   "cell_type": "code",
   "execution_count": 2,
   "metadata": {},
   "outputs": [],
   "source": [
    "colsm6 = soup.find_all(\"div\", class_ = \"col-sm-6\")\n",
    "\n",
    "colsm6col0 = colsm6[0].find_all(\"div\", class_ = \"section\")"
   ]
  },
  {
   "cell_type": "code",
   "execution_count": 3,
   "metadata": {},
   "outputs": [
    {
     "data": {
      "text/plain": [
       "['Car type',\n",
       " 'Curb weight',\n",
       " 'Years built',\n",
       " 'Origin country',\n",
       " 'Views',\n",
       " 'Submitted by']"
      ]
     },
     "execution_count": 3,
     "metadata": {},
     "output_type": "execute_result"
    }
   ],
   "source": [
    "listtitles = []\n",
    "listvalues = []\n",
    "toggle = True\n",
    "\n",
    "itemtable = colsm6col0[0].find(\"table\")\n",
    "\n",
    "for item in itemtable.find_all(\"tr\"):\n",
    "    for subitem in item.find_all(\"td\"):\n",
    "        if toggle:\n",
    "            listtitles.append(subitem.text)\n",
    "        else:\n",
    "            listvalues.append(subitem.text)\n",
    "        toggle = not(toggle)\n",
    "\n",
    "listtitles\n",
    "\n",
    "# We would like to use 'Car Type', 'Origin County'\n",
    "# For Year, there is 'Years built' and 'Introduced'. We will use the first year posted"
   ]
  },
  {
   "cell_type": "code",
   "execution_count": 4,
   "metadata": {},
   "outputs": [],
   "source": [
    "colsm6col1 = colsm6[1]\n",
    "\n",
    "for item in colsm6col1.find_all(\"div\", class_ = \"section\"):\n",
    "    targetitem = item.find(\"h3\", id= \"powertrainSpecs\")\n",
    "    if targetitem is not None:\n",
    "        powertrainItem = item\n",
    "        break"
   ]
  },
  {
   "cell_type": "code",
   "execution_count": 5,
   "metadata": {},
   "outputs": [
    {
     "data": {
      "text/plain": [
       "['Engine type', 'Displacement', 'Transmission', 'Layout']"
      ]
     },
     "execution_count": 5,
     "metadata": {},
     "output_type": "execute_result"
    }
   ],
   "source": [
    "powertitles = []\n",
    "powervalues = []\n",
    "toggle = True\n",
    "\n",
    "for poweritems in powertrainItem.find_all(\"tr\"):\n",
    "    for subitem in poweritems.find_all(\"td\"):\n",
    "        if toggle:\n",
    "            powertitles.append(subitem.text)\n",
    "        else:\n",
    "            powervalues.append(subitem.text)\n",
    "        toggle = not(toggle)\n",
    "\n",
    "powertitles"
   ]
  },
  {
   "cell_type": "code",
   "execution_count": 6,
   "metadata": {},
   "outputs": [],
   "source": [
    "additionaldict = {\n",
    "    \"Car_type\":[],\n",
    "    \"Year\":[],\n",
    "    \"Country_of_Origin\": [],\n",
    "    \"Engine_type\":[],\n",
    "    \"Displacement\": [],\n",
    "    \"Transmission\": [],\n",
    "    \"Engine_Layout\": [],\n",
    "    \"Drivetrain\": []\n",
    "}"
   ]
  },
  {
   "cell_type": "code",
   "execution_count": 7,
   "metadata": {},
   "outputs": [
    {
     "data": {
      "text/plain": [
       "{'Car_type': ['Convertible'],\n",
       " 'Year': [1978],\n",
       " 'Country_of_Origin': ['Switzerland'],\n",
       " 'Engine_type': ['BMW-Madern M12 2.0L S4'],\n",
       " 'Displacement': [2.0],\n",
       " 'Transmission': ['Hewland 5-speed Manual'],\n",
       " 'Engine_Layout': ['middle engine'],\n",
       " 'Drivetrain': ['rear wheel drive']}"
      ]
     },
     "execution_count": 7,
     "metadata": {},
     "output_type": "execute_result"
    }
   ],
   "source": [
    "# Car Type\n",
    "additionaldict[\"Car_type\"].append(listvalues[listtitles.index(\"Car type\")].strip())\n",
    "\n",
    "# Year\n",
    "if \"Introduced\" in listtitles:\n",
    "    additionaldict[\"Year\"].append(int(listvalues[listtitles.index(\"Introduced\")]))\n",
    "elif \"Years built\" in listtitles:\n",
    "    additionaldict[\"Year\"].append(int(listvalues[listtitles.index(\"Years built\")][0:4]))\n",
    "\n",
    "# Country of Origin\n",
    "additionaldict[\"Country_of_Origin\"].append(listvalues[listtitles.index(\"Origin country\")].strip())\n",
    "\n",
    "# Engine type\n",
    "additionaldict[\"Engine_type\"].append(powervalues[powertitles.index(\"Engine type\")].strip())\n",
    "\n",
    "# Displacement (in liters)\n",
    "disp = powervalues[powertitles.index(\"Displacement\")].split(\" \")[0]\n",
    "\n",
    "additionaldict[\"Displacement\"].append(float(disp))\n",
    "\n",
    "# Transmission\n",
    "additionaldict[\"Transmission\"].append(powervalues[powertitles.index(\"Transmission\")].strip())\n",
    "\n",
    "# Splitting up the Layout\n",
    "SplitLayout = powervalues[powertitles.index(\"Layout\")].split(\",\")\n",
    "\n",
    "additionaldict[\"Engine_Layout\"].append(SplitLayout[0].strip())\n",
    "\n",
    "additionaldict[\"Drivetrain\"].append(SplitLayout[1].strip())\n",
    "\n",
    "additionaldict"
   ]
  }
 ],
 "metadata": {
  "kernelspec": {
   "display_name": "Python 3",
   "language": "python",
   "name": "python3"
  },
  "language_info": {
   "codemirror_mode": {
    "name": "ipython",
    "version": 3
   },
   "file_extension": ".py",
   "mimetype": "text/x-python",
   "name": "python",
   "nbconvert_exporter": "python",
   "pygments_lexer": "ipython3",
   "version": "3.11.2"
  },
  "orig_nbformat": 4,
  "vscode": {
   "interpreter": {
    "hash": "aee8b7b246df8f9039afb4144a1f6fd8d2ca17a180786b69acc140d282b71a49"
   }
  }
 },
 "nbformat": 4,
 "nbformat_minor": 2
}
